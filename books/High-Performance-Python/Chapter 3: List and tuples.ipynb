{
 "cells": [
  {
   "cell_type": "code",
   "execution_count": null,
   "metadata": {},
   "outputs": [],
   "source": []
  },
  {
   "cell_type": "markdown",
   "metadata": {},
   "source": [
    "# Chapter 3: List and tuples"
   ]
  },
  {
   "cell_type": "markdown",
   "metadata": {},
   "source": [
    "Given the following data, write an algorithm to find the index of the\n",
    "value 61:  [9, 18, 18, 19, 29, 42, 56, 61, 88, 95]\n",
    "\n",
    "Since you know the data is ordered, how can you do this faster?\n",
    "Hint: If you split the array in half, you know all the values on the left\n",
    "are smaller than the smallest element in the right set. You can use this!"
   ]
  },
  {
   "cell_type": "code",
   "execution_count": 6,
   "metadata": {},
   "outputs": [
    {
     "data": {
      "text/plain": [
       "7"
      ]
     },
     "execution_count": 6,
     "metadata": {},
     "output_type": "execute_result"
    }
   ],
   "source": [
    "#Using hashmaps\n",
    "from collections import defaultdict\n",
    "\n",
    "def findIntoArray(array:list, value:int):\n",
    "    d = dict()\n",
    "    for i in range(len(array)):\n",
    "        d[array[i]] = i\n",
    "    return d[value]\n",
    "# \n",
    "l = [9, 18, 18, 19, 29, 42, 56, 61, 88, 95]\n",
    "\n",
    "findIntoArray(l, 61)\n",
    "    "
   ]
  },
  {
   "cell_type": "markdown",
   "metadata": {},
   "source": [
    "Given the following data, write an algorithm to find the index of the\n",
    "value 61:\n",
    "[9, 18, 18, 19, 29, 42, 56, 61, 88, 95]\n",
    "Since you know the data is ordered, how can you do this faster?\n",
    "Hint: If you split the array in half, you know all the values on the left\n",
    "are smaller than the smallest element in the right set. You can use this!"
   ]
  },
  {
   "cell_type": "code",
   "execution_count": null,
   "metadata": {},
   "outputs": [],
   "source": [
    "def findIntoArray(array:list, value:int):\n",
    "    s = 0\n",
    "    e = len(array)\n",
    "    \n",
    "    while True:\n",
    "        middle = int((e-s)/2) + s\n",
    "        if value == array[middle]:\n",
    "            return int(middle)\n",
    "        elif value < array[middle]:\n",
    "            e = middle\n",
    "        else:\n",
    "            s = middle"
   ]
  },
  {
   "cell_type": "markdown",
   "metadata": {},
   "source": []
  }
 ],
 "metadata": {
  "kernelspec": {
   "display_name": "Python 3",
   "language": "python",
   "name": "python3"
  },
  "language_info": {
   "codemirror_mode": {
    "name": "ipython",
    "version": 3
   },
   "file_extension": ".py",
   "mimetype": "text/x-python",
   "name": "python",
   "nbconvert_exporter": "python",
   "pygments_lexer": "ipython3",
   "version": "3.10.12"
  }
 },
 "nbformat": 4,
 "nbformat_minor": 2
}
