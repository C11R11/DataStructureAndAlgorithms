{
 "cells": [
  {
   "cell_type": "markdown",
   "metadata": {},
   "source": [
    "If, on the other hand, we wanted to answer the question, “How many unique first names\n",
    "are there in my phone book?” we could use the power of sets. Recall that a set is simply\n",
    "a collection of unique keys—this is the exact property we would like to enforce in our\n",
    "data. This is in stark contrast to a list-based approach, where that property needs to be\n",
    "enforced separately from the data structure by comparing all names with all other\n",
    "\n"
   ]
  },
  {
   "cell_type": "code",
   "execution_count": 2,
   "metadata": {},
   "outputs": [],
   "source": [
    "phonebook = [\n",
    "(\"John Doe\", \"555-555-5555\"),\n",
    "(\"Albert Einstein\", \"212-555-5555\"),\n",
    "(\"John Murphey\", \"202-555-5555\"),\n",
    "(\"Albert Rutherford\", \"647-555-5555\"),\n",
    "(\"Elaine Bodian\", \"301-555-5555\"),]"
   ]
  },
  {
   "cell_type": "code",
   "execution_count": 37,
   "metadata": {},
   "outputs": [],
   "source": [
    "def list_unique_names(phonebook):\n",
    "    unique_names = [phonebook[0][0].split(\" \", 1)[0]]\n",
    "    print(unique_names)\n",
    "    \n",
    "    #The entire algorithm is O (n log n)\n",
    "    \n",
    "    #This loop here is O(n)\n",
    "    for name, phonenumber in phonebook: #\n",
    "        first_name, last_name = name.split(\" \", 1)\n",
    "        #unique = True\n",
    "        print(\"looping over list, now\", first_name)\n",
    "        \n",
    "        #This loop here is O(log n)\n",
    "        for unique in unique_names: #\n",
    "            if unique == first_name:\n",
    "                #unique = False\n",
    "                break\n",
    "        #if unique:\n",
    "         #   print(\"adding\", first_name)\n",
    "        else: \n",
    "            unique_names.append(first_name)\n",
    "        print(unique_names)\n",
    "    return len(unique_names)\n",
    "\n",
    "\"\"\"\n",
    "On the other hand, the set algorithm has no inner loop; the set.add operation is an\n",
    "O(1) process that completes in a fixed number of operations regardless of how large the\n",
    "phone book is (there are some minor caveats to this, which we will cover while discussing\n",
    "the implementation of dictionaries and sets). Thus, the only nonconstant contribution\n",
    "to the complexity of this algorithm is the loop over the phone book, making this algorithm\n",
    "perform in O(n).\n",
    "\"\"\"\n",
    "def set_unique_names(phonebook):\n",
    "    unique_names = set()\n",
    "    for name, phonenumber in phonebook: #\n",
    "        first_name, last_name = name.split(\" \", 1)\n",
    "        unique_names.add(first_name) #\n",
    "    return len(unique_names)"
   ]
  },
  {
   "cell_type": "code",
   "execution_count": 38,
   "metadata": {},
   "outputs": [
    {
     "name": "stdout",
     "output_type": "stream",
     "text": [
      "Number of unique names from set method: 3\n",
      "['John']\n",
      "looping over list, now John\n",
      "['John']\n",
      "looping over list, now Albert\n",
      "['John', 'Albert']\n",
      "looping over list, now John\n",
      "['John', 'Albert']\n",
      "looping over list, now Albert\n",
      "['John', 'Albert']\n",
      "looping over list, now Elaine\n",
      "['John', 'Albert', 'Elaine']\n",
      "Number of unique names from list method: 3\n"
     ]
    }
   ],
   "source": [
    "print (\"Number of unique names from set method:\", set_unique_names(phonebook))\n",
    "print (\"Number of unique names from list method:\", list_unique_names(phonebook))"
   ]
  }
 ],
 "metadata": {
  "kernelspec": {
   "display_name": "Python 3",
   "language": "python",
   "name": "python3"
  },
  "language_info": {
   "codemirror_mode": {
    "name": "ipython",
    "version": 3
   },
   "file_extension": ".py",
   "mimetype": "text/x-python",
   "name": "python",
   "nbconvert_exporter": "python",
   "pygments_lexer": "ipython3",
   "version": "3.10.12"
  }
 },
 "nbformat": 4,
 "nbformat_minor": 2
}
